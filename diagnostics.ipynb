{
 "cells": [
  {
   "cell_type": "code",
   "execution_count": 7,
   "id": "e00686a6-c019-414e-92be-a44d32cfe138",
   "metadata": {},
   "outputs": [],
   "source": [
    "import os\n",
    "import sys\n",
    "\n",
    "from BrainAnnex.modules.neo_access.neo_access import NeoAccess"
   ]
  },
  {
   "cell_type": "code",
   "execution_count": 11,
   "id": "0bfca9e9-2785-42b5-9c7d-04451495f7e5",
   "metadata": {},
   "outputs": [
    {
     "name": "stdout",
     "output_type": "stream",
     "text": [
      "***  SOME DIAGNOSTIC VALUES:  ***\n",
      "\n",
      "sys.executable:  D:\\Docs\\- MY CODE\\Brain Annex\\BA-Win7\\venv\\Scripts\\python.exe\n",
      "\n",
      "cwd:  D:\\Docs\\- MY CODE\\Brain Annex\\BA-Win7\n",
      "\n",
      "sys.path using separate lines: \n",
      "     D:\\Docs\\- MY CODE\\Brain Annex\\BA-Win7\n",
      "     D:\\Docs\\- MY CODE\\Brain Annex\\BA-Win7\n",
      "     C:\\Program Files\\Python 3.8.10\\python38.zip\n",
      "     C:\\Program Files\\Python 3.8.10\\DLLs\n",
      "     C:\\Program Files\\Python 3.8.10\\lib\n",
      "     C:\\Program Files\\Python 3.8.10\n",
      "     D:\\Docs\\- MY CODE\\Brain Annex\\BA-Win7\\venv\n",
      "     \n",
      "     D:\\Docs\\- MY CODE\\Brain Annex\\BA-Win7\\venv\\lib\\site-packages\n",
      "     D:\\Docs\\- MY CODE\\Brain Annex\\BA-Win7\\venv\\lib\\site-packages\\win32\n",
      "     D:\\Docs\\- MY CODE\\Brain Annex\\BA-Win7\\venv\\lib\\site-packages\\win32\\lib\n",
      "     D:\\Docs\\- MY CODE\\Brain Annex\\BA-Win7\\venv\\lib\\site-packages\\Pythonwin\n"
     ]
    }
   ],
   "source": [
    "print(\"***  SOME DIAGNOSTIC VALUES:  ***\")\n",
    "\n",
    "print(\"\\nsys.executable: \", sys.executable)\n",
    "\n",
    "print(\"\\ncwd: \", os.getcwd())\n",
    "\n",
    "#print(\"\\nsys.path: \", sys.path)\n",
    "\n",
    "print(\"\\nsys.path using separate lines: \")\n",
    "for p in sys.path:\n",
    "    print(\"    \", p)"
   ]
  },
  {
   "cell_type": "code",
   "execution_count": null,
   "id": "8ebe967e-3446-4ca5-8584-9603ec532a9b",
   "metadata": {},
   "outputs": [],
   "source": [
    "print(\"To use the database connection, enter the host IP, but leave out the port number: (EXAMPLES:  bolt://1.2.3.4  OR  neo4j://localhost )\\n\")\n",
    "host = input()\n",
    "host += \":7687\"    # EXAMPLE of host value:  \"bolt://123.456.789.012:7687\"\n",
    "\n",
    "print(\"Enter the password:\")\n",
    "password = input()\n",
    "\n",
    "print(f\"Attempting to connect as host='{host}', username='neo4j', password=`{password}`\")"
   ]
  },
  {
   "cell_type": "code",
   "execution_count": 5,
   "id": "7247f139-9f06-41d1-98e8-410ff7c9f177",
   "metadata": {},
   "outputs": [
    {
     "name": "stdout",
     "output_type": "stream",
     "text": [
      "~~~~~~~~~ Initializing NeoAccess object ~~~~~~~~~\n",
      "Attempting to connect to Neo4j host 'bolt://155.248.202.124:7687', with username 'neo4j'\n",
      "Connection to host 'bolt://155.248.202.124:7687' established\n"
     ]
    }
   ],
   "source": [
    "db = NeoAccess(host=host,\n",
    "                credentials=(\"neo4j\", password),\n",
    "                debug=True, autoconnect=True)"
   ]
  },
  {
   "cell_type": "code",
   "execution_count": 12,
   "id": "c96ece03-2b07-4a4d-ad6e-e41ccbf67251",
   "metadata": {},
   "outputs": [
    {
     "name": "stdout",
     "output_type": "stream",
     "text": [
      "Version of the Neo4j driver:  4.3.9\n"
     ]
    }
   ],
   "source": [
    "print(\"Version of the Neo4j driver: \", db.version())"
   ]
  },
  {
   "cell_type": "code",
   "execution_count": 17,
   "id": "69c40960-d7f0-4f31-9af1-5416feda0045",
   "metadata": {},
   "outputs": [
    {
     "name": "stdout",
     "output_type": "stream",
     "text": [
      "\n",
      "In create_node().  Query:\n",
      "    CREATE (n :`car` {`color`: $par_1}) RETURN n\n",
      "Data binding:\n",
      "    {'par_1': 'white'}\n",
      "\n",
      "\n",
      "In create_node().  Query:\n",
      "    CREATE (n :`owner` {`name`: $par_1}) RETURN n\n",
      "Data binding:\n",
      "    {'par_1': 'Julian'}\n",
      "\n",
      "In find().  labels=None, neo_id=19, key_name=None, key_value=None, properties=None, subquery=None, dummy_node_name=from\n",
      "\n",
      "*** match_structure :  {'node': '(from)', 'where': 'id(from) = 19', 'data_binding': {}, 'dummy_node_name': 'from'}\n",
      "In find().  labels=None, neo_id=20, key_name=None, key_value=None, properties=None, subquery=None, dummy_node_name=to\n",
      "\n",
      "*** match_structure :  {'node': '(to)', 'where': 'id(to) = 20', 'data_binding': {}, 'dummy_node_name': 'to'}\n",
      "\n",
      "In add_edges().  Query:\n",
      "    \n",
      "            MATCH (from), (to)\n",
      "            WHERE (id(from) = 19 AND id(to) = 20)\n",
      "            MERGE (from) -[:`OWNED_BY`]-> (to)           \n",
      "            \n",
      "\n",
      "In update_query(). Attributes of ResultSummary object: {'metadata': {'query': '\\n            MATCH (from), (to)\\n            WHERE (id(from) = 19 AND id(to) = 20)\\n            MERGE (from) -[:`OWNED_BY`]-> (to)           \\n            ', 'parameters': {}, 'server': <neo4j.api.ServerInfo object at 0x00000000064C4A60>, 't_first': 210, 'fields': [], 'bookmark': 'FB:kcwQxosFA855RdybwjuMf2O2J8kVU5A=', 'stats': {'relationships-created': 1}, 'type': 'w', 't_last': 0, 'db': 'neo4j', 'notifications': [{'severity': 'WARNING', 'description': 'If a part of a query contains multiple disconnected patterns, this will build a cartesian product between all those parts. This may produce a large amount of data and slow down query processing. While occasionally intended, it may often be possible to reformulate the query that avoids the use of this cross product, perhaps by adding a relationship between the different parts or by using OPTIONAL MATCH (identifier is: (to))', 'code': 'Neo.ClientNotification.Statement.CartesianProductWarning', 'position': {'column': 1, 'offset': 13, 'line': 2}, 'title': 'This query builds a cartesian product between disconnected patterns.'}]}, 'server': <neo4j.api.ServerInfo object at 0x00000000064C4A60>, 'database': 'neo4j', 'query': '\\n            MATCH (from), (to)\\n            WHERE (id(from) = 19 AND id(to) = 20)\\n            MERGE (from) -[:`OWNED_BY`]-> (to)           \\n            ', 'parameters': {}, 'query_type': 'w', 'plan': None, 'profile': None, 'notifications': [{'severity': 'WARNING', 'description': 'If a part of a query contains multiple disconnected patterns, this will build a cartesian product between all those parts. This may produce a large amount of data and slow down query processing. While occasionally intended, it may often be possible to reformulate the query that avoids the use of this cross product, perhaps by adding a relationship between the different parts or by using OPTIONAL MATCH (identifier is: (to))', 'code': 'Neo.ClientNotification.Statement.CartesianProductWarning', 'position': {'column': 1, 'offset': 13, 'line': 2}, 'title': 'This query builds a cartesian product between disconnected patterns.'}], 'counters': {'relationships_created': 1}, 'result_available_after': 210, 'result_consumed_after': 0}\n",
      "    result of update_query in add_edges():  {'relationships_created': 1, 'returned_data': []}\n"
     ]
    }
   ],
   "source": [
    "neo_from = db.create_node(\"car\", {'color': 'white'})\n",
    "neo_to = db.create_node(\"owner\", {'name': 'Julian'})\n",
    "\n",
    "match_from = db.find(neo_id=neo_from, dummy_node_name=\"from\")\n",
    "match_to = db.find(neo_id=neo_to, dummy_node_name=\"to\")\n",
    "\n",
    "number_added = db.add_edges(match_from, match_to, rel_name=\"OWNED_BY\")"
   ]
  },
  {
   "cell_type": "code",
   "execution_count": 18,
   "id": "1c9b935a-d042-4913-9b06-9b0d3ef2ce13",
   "metadata": {},
   "outputs": [
    {
     "data": {
      "text/plain": [
       "1"
      ]
     },
     "execution_count": 18,
     "metadata": {},
     "output_type": "execute_result"
    }
   ],
   "source": [
    "number_added"
   ]
  },
  {
   "cell_type": "code",
   "execution_count": null,
   "id": "e93300b0-86ba-44e8-bf0f-38923084c3c1",
   "metadata": {},
   "outputs": [],
   "source": []
  }
 ],
 "metadata": {
  "kernelspec": {
   "display_name": "Python 3 (ipykernel)",
   "language": "python",
   "name": "python3"
  },
  "language_info": {
   "codemirror_mode": {
    "name": "ipython",
    "version": 3
   },
   "file_extension": ".py",
   "mimetype": "text/x-python",
   "name": "python",
   "nbconvert_exporter": "python",
   "pygments_lexer": "ipython3",
   "version": "3.8.10"
  }
 },
 "nbformat": 4,
 "nbformat_minor": 5
}
