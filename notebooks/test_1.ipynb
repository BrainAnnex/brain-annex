{
 "cells": [
  {
   "cell_type": "code",
   "execution_count": 1,
   "id": "e00686a6-c019-414e-92be-a44d32cfe138",
   "metadata": {},
   "outputs": [],
   "source": [
    "import os\n",
    "import sys\n",
    "import getpass\n",
    "\n",
    "from BrainAnnex.modules.neo_access.neo_access import NeoAccess"
   ]
  },
  {
   "cell_type": "code",
   "execution_count": 2,
   "id": "8ebe967e-3446-4ca5-8584-9603ec532a9b",
   "metadata": {},
   "outputs": [],
   "source": [
    "print(\"To create a database connection, enter the host IP, but leave out the port number: (EXAMPLES:  bolt://1.2.3.4  OR  neo4j://localhost )\\n\")\n",
    "\n",
    "host = input(\"Enter host IP WITHOUT the port number.  EXAMPLE: bolt://123.456.789.012\")\n",
    "host += \":7687\"    # EXAMPLE of host value:  \"bolt://123.456.789.012:7687\"\n",
    "\n",
    "password = getpass.getpass(\"Enter the databse password:\")\n",
    "\n",
    "print(f\"\\n=> Will be using: host='{host}', username='neo4j', password=**********\")"
   ]
  },
  {
   "cell_type": "code",
   "execution_count": 3,
   "id": "7247f139-9f06-41d1-98e8-410ff7c9f177",
   "metadata": {},
   "outputs": [
    {
     "name": "stdout",
     "output_type": "stream",
     "text": [
      "~~~~~~~~~ Initializing NeoAccess object ~~~~~~~~~\n",
      "Attempting to connect to Neo4j host 'bolt://155.248.202.124:7687', with username 'neo4j'\n",
      "Connection to host 'bolt://155.248.202.124:7687' established\n"
     ]
    }
   ],
   "source": [
    "db = NeoAccess(host=host,\n",
    "                credentials=(\"neo4j\", password), debug=True)"
   ]
  },
  {
   "cell_type": "code",
   "execution_count": 4,
   "id": "c96ece03-2b07-4a4d-ad6e-e41ccbf67251",
   "metadata": {},
   "outputs": [
    {
     "name": "stdout",
     "output_type": "stream",
     "text": [
      "Version of the Neo4j driver:  4.3.9\n"
     ]
    }
   ],
   "source": [
    "print(\"Version of the Neo4j driver: \", db.version())"
   ]
  },
  {
   "cell_type": "code",
   "execution_count": 5,
   "id": "c3e8506e-b904-48c1-a22a-2818807814cf",
   "metadata": {},
   "outputs": [],
   "source": [
    "db.empty_dbase()       # WARNING: USE WITH CAUTION!!!"
   ]
  },
  {
   "cell_type": "code",
   "execution_count": 6,
   "id": "9b1f3651-f613-4966-b1ac-f2eddfbb2e79",
   "metadata": {},
   "outputs": [
    {
     "name": "stdout",
     "output_type": "stream",
     "text": [
      "\n",
      "In create_node().  Query:\n",
      "    CREATE (n :`car` {`color`: $par_1}) RETURN n\n",
      "Data binding:\n",
      "    {'par_1': 'white'}\n",
      "\n",
      "\n",
      "In create_node().  Query:\n",
      "    CREATE (n :`owner` {`name`: $par_1}) RETURN n\n",
      "Data binding:\n",
      "    {'par_1': 'Julian'}\n",
      "\n"
     ]
    }
   ],
   "source": [
    "neo_from = db.create_node(\"car\", {'color': 'white'})\n",
    "neo_to = db.create_node(\"owner\", {'name': 'Julian'})"
   ]
  },
  {
   "cell_type": "code",
   "execution_count": 7,
   "id": "e3e52fdc-cef4-4efa-b402-9cae01c14b77",
   "metadata": {},
   "outputs": [
    {
     "data": {
      "text/plain": [
       "5"
      ]
     },
     "execution_count": 7,
     "metadata": {},
     "output_type": "execute_result"
    }
   ],
   "source": [
    "neo_from"
   ]
  },
  {
   "cell_type": "code",
   "execution_count": 8,
   "id": "2e3236ee-b97e-4ffc-90bf-fd9949dcea1d",
   "metadata": {},
   "outputs": [
    {
     "data": {
      "text/plain": [
       "6"
      ]
     },
     "execution_count": 8,
     "metadata": {},
     "output_type": "execute_result"
    }
   ],
   "source": [
    "neo_to"
   ]
  },
  {
   "cell_type": "code",
   "execution_count": 9,
   "id": "69c40960-d7f0-4f31-9af1-5416feda0045",
   "metadata": {},
   "outputs": [],
   "source": [
    "# TODO: after saving the pytest, ditch the match structure and pass directl the neoid's\n",
    "match_from = db.match(internal_id=neo_from)\n",
    "match_to = db.match(internal_id=neo_to)"
   ]
  },
  {
   "cell_type": "code",
   "execution_count": 10,
   "id": "9fe65b1f-b1b3-4da1-93ae-5f974e0ed03f",
   "metadata": {},
   "outputs": [
    {
     "data": {
      "text/plain": [
       "{'internal_id': 5,\n",
       " 'labels': None,\n",
       " 'key_name': None,\n",
       " 'key_value': None,\n",
       " 'properties': None,\n",
       " 'clause': None,\n",
       " 'dummy_node_name': None}"
      ]
     },
     "execution_count": 10,
     "metadata": {},
     "output_type": "execute_result"
    }
   ],
   "source": [
    "match_from"
   ]
  },
  {
   "cell_type": "code",
   "execution_count": 11,
   "id": "729c2f5c-e0de-4f0a-8bc5-45d0b4632fc0",
   "metadata": {},
   "outputs": [
    {
     "data": {
      "text/plain": [
       "{'internal_id': 6,\n",
       " 'labels': None,\n",
       " 'key_name': None,\n",
       " 'key_value': None,\n",
       " 'properties': None,\n",
       " 'clause': None,\n",
       " 'dummy_node_name': None}"
      ]
     },
     "execution_count": 11,
     "metadata": {},
     "output_type": "execute_result"
    }
   ],
   "source": [
    "match_to"
   ]
  },
  {
   "cell_type": "code",
   "execution_count": 12,
   "id": "5063cec5-e693-4002-aa84-c5c71240039d",
   "metadata": {},
   "outputs": [
    {
     "name": "stdout",
     "output_type": "stream",
     "text": [
      "In add_links()\n",
      "    match_from: {'node': '(from)', 'where': 'id(from) = 5', 'data_binding': {}, 'dummy_node_name': 'from'}\n",
      "    match_to: {'node': '(to)', 'where': 'id(to) = 6', 'data_binding': {}, 'dummy_node_name': 'to'}\n",
      "\n",
      "In add_links().  Query:\n",
      "    \n",
      "            MATCH (from), (to)\n",
      "            WHERE (id(from) = 5 AND id(to) = 6)\n",
      "            MERGE (from) -[:`OWNED_BY`]-> (to)           \n",
      "            \n",
      "\n",
      "In update_query(). Attributes of ResultSummary object:\n",
      "   metadata -> {'query': '\\n            MATCH (from), (to)\\n            WHERE (id(from) = 5 AND id(to) = 6)\\n            MERGE (from) -[:`OWNED_BY`]-> (to)           \\n            ', 'parameters': {}, 'server': <neo4j.api.ServerInfo object at 0x000000001A0451F0>, 't_first': 25, 'fields': [], 'bookmark': 'FB:kcwQxosFA855RdybwjuMf2O2J8kWVJA=', 'stats': {'relationships-created': 1}, 'type': 'w', 't_last': 0, 'db': 'neo4j', 'notifications': [{'severity': 'WARNING', 'description': 'If a part of a query contains multiple disconnected patterns, this will build a cartesian product between all those parts. This may produce a large amount of data and slow down query processing. While occasionally intended, it may often be possible to reformulate the query that avoids the use of this cross product, perhaps by adding a relationship between the different parts or by using OPTIONAL MATCH (identifier is: (to))', 'code': 'Neo.ClientNotification.Statement.CartesianProductWarning', 'position': {'column': 1, 'offset': 13, 'line': 2}, 'title': 'This query builds a cartesian product between disconnected patterns.'}]}\n",
      "   server -> <neo4j.api.ServerInfo object at 0x000000001A0451F0>\n",
      "   database -> neo4j\n",
      "   query -> \n",
      "            MATCH (from), (to)\n",
      "            WHERE (id(from) = 5 AND id(to) = 6)\n",
      "            MERGE (from) -[:`OWNED_BY`]-> (to)           \n",
      "            \n",
      "   parameters -> {}\n",
      "   query_type -> w\n",
      "   plan -> None\n",
      "   profile -> None\n",
      "   notifications -> [{'severity': 'WARNING', 'description': 'If a part of a query contains multiple disconnected patterns, this will build a cartesian product between all those parts. This may produce a large amount of data and slow down query processing. While occasionally intended, it may often be possible to reformulate the query that avoids the use of this cross product, perhaps by adding a relationship between the different parts or by using OPTIONAL MATCH (identifier is: (to))', 'code': 'Neo.ClientNotification.Statement.CartesianProductWarning', 'position': {'column': 1, 'offset': 13, 'line': 2}, 'title': 'This query builds a cartesian product between disconnected patterns.'}]\n",
      "   counters -> {'relationships_created': 1}\n",
      "   result_available_after -> 25\n",
      "   result_consumed_after -> 0\n",
      "    RESULT of update_query in add_links():  {'relationships_created': 1, 'returned_data': []}\n"
     ]
    },
    {
     "data": {
      "text/plain": [
       "1"
      ]
     },
     "execution_count": 12,
     "metadata": {},
     "output_type": "execute_result"
    }
   ],
   "source": [
    "number_added = db.add_links(match_from, match_to, rel_name=\"OWNED_BY\")\n",
    "\n",
    "number_added"
   ]
  },
  {
   "cell_type": "code",
   "execution_count": null,
   "id": "cf9dec5d-2376-4a63-a1ab-24d5fbfc1dc2",
   "metadata": {},
   "outputs": [],
   "source": []
  }
 ],
 "metadata": {
  "kernelspec": {
   "display_name": "Python 3 (ipykernel)",
   "language": "python",
   "name": "python3"
  },
  "language_info": {
   "codemirror_mode": {
    "name": "ipython",
    "version": 3
   },
   "file_extension": ".py",
   "mimetype": "text/x-python",
   "name": "python",
   "nbconvert_exporter": "python",
   "pygments_lexer": "ipython3",
   "version": "3.8.10"
  }
 },
 "nbformat": 4,
 "nbformat_minor": 5
}
