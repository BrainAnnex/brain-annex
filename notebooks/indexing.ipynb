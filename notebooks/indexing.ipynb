{
 "cells": [
  {
   "cell_type": "markdown",
   "id": "22d93371-d72a-498a-b25e-affb11659f0d",
   "metadata": {},
   "source": [
    "## Exploration of indexing"
   ]
  },
  {
   "cell_type": "code",
   "execution_count": 1,
   "id": "910c294a-eb6b-43d7-9369-980f20974e12",
   "metadata": {},
   "outputs": [
    {
     "name": "stdout",
     "output_type": "stream",
     "text": [
      "Added 'D:\\Docs\\- MY CODE\\Brain Annex\\BA-Win7' to sys.path\n"
     ]
    }
   ],
   "source": [
    "import set_path      # Importing this module will add the project's home directory to sys.path"
   ]
  },
  {
   "cell_type": "code",
   "execution_count": 2,
   "id": "e00686a6-c019-414e-92be-a44d32cfe138",
   "metadata": {},
   "outputs": [],
   "source": [
    "import os\n",
    "import sys\n",
    "import getpass\n",
    "\n",
    "from neoaccess import NeoAccess"
   ]
  },
  {
   "cell_type": "code",
   "execution_count": 3,
   "id": "76aaeb7a-8cd7-4ae1-bab5-f90f1af17bad",
   "metadata": {
    "tags": []
   },
   "outputs": [],
   "source": [
    "from BrainAnnex.modules.full_text_indexing.full_text_indexing import FullTextIndexing"
   ]
  },
  {
   "cell_type": "code",
   "execution_count": 12,
   "id": "3edecd27-e982-4836-9e03-ab9c0510fede",
   "metadata": {
    "tags": []
   },
   "outputs": [],
   "source": [
    "from BrainAnnex.modules.media_manager.media_manager import MediaManager"
   ]
  },
  {
   "cell_type": "markdown",
   "id": "be1fb174-5bb9-4dee-a920-0ac5dcfb74a5",
   "metadata": {},
   "source": [
    "# Connect to the database"
   ]
  },
  {
   "cell_type": "code",
   "execution_count": 21,
   "id": "8ebe967e-3446-4ca5-8584-9603ec532a9b",
   "metadata": {},
   "outputs": [
    {
     "name": "stdout",
     "output_type": "stream",
     "text": [
      "To create a database connection, enter the host IP, but leave out the port number: (EXAMPLES:  bolt://1.2.3.4  OR  neo4j://localhost )\n",
      "\n"
     ]
    },
    {
     "name": "stdin",
     "output_type": "stream",
     "text": [
      "Enter host IP WITHOUT the port number.  EXAMPLE: bolt://123.456.789.012  bolt://123.456.789.012\n",
      "Enter the database password: ········\n"
     ]
    },
    {
     "name": "stdout",
     "output_type": "stream",
     "text": [
      "\n",
      "=> Will be using: host='bolt://123.456.789.012:7687', username='neo4j', password=**********\n"
     ]
    }
   ],
   "source": [
    "print(\"To create a database connection, enter the host IP, but leave out the port number: (EXAMPLES:  bolt://1.2.3.4  OR  neo4j://localhost )\\n\")\n",
    "\n",
    "host = input(\"Enter host IP WITHOUT the port number.  EXAMPLE: bolt://123.456.789.012 \")\n",
    "host += \":7687\"    # EXAMPLE of host value:  \"bolt://123.456.789.012:7687\"\n",
    "\n",
    "password = getpass.getpass(\"Enter the database password:\")\n",
    "\n",
    "print(f\"\\n=> Will be using: host='{host}', username='neo4j', password=**********\")"
   ]
  },
  {
   "cell_type": "code",
   "execution_count": 5,
   "id": "7247f139-9f06-41d1-98e8-410ff7c9f177",
   "metadata": {},
   "outputs": [
    {
     "name": "stdout",
     "output_type": "stream",
     "text": [
      "Attempting to connect to Neo4j database\n"
     ]
    }
   ],
   "source": [
    "db = NeoAccess(host=host,\n",
    "               credentials=(\"neo4j\", password), debug=False)   # Notice the debug option being OFF"
   ]
  },
  {
   "cell_type": "code",
   "execution_count": 6,
   "id": "c96ece03-2b07-4a4d-ad6e-e41ccbf67251",
   "metadata": {},
   "outputs": [
    {
     "name": "stdout",
     "output_type": "stream",
     "text": [
      "Version of the Neo4j driver:  4.4.11\n"
     ]
    }
   ],
   "source": [
    "print(\"Version of the Neo4j driver: \", db.version())"
   ]
  },
  {
   "cell_type": "markdown",
   "id": "4ca98da0-f267-4efa-8302-624efbd1a744",
   "metadata": {},
   "source": [
    "# Explorations"
   ]
  },
  {
   "cell_type": "code",
   "execution_count": 7,
   "id": "8ffff2e4-9be8-445f-a82b-d111b6755905",
   "metadata": {
    "tags": []
   },
   "outputs": [],
   "source": [
    "q = \"MATCH (n:Notes) RETURN n LIMIT 3\""
   ]
  },
  {
   "cell_type": "code",
   "execution_count": 8,
   "id": "3e62b317-074e-43fb-bc84-251fee600d6d",
   "metadata": {
    "tags": []
   },
   "outputs": [
    {
     "data": {
      "text/plain": [
       "[{'n': {'basename': 'overview',\n",
       "   'item_id': 15,\n",
       "   'schema_code': 'n',\n",
       "   'suffix': 'htm'}},\n",
       " {'n': {'basename': 'notes-880',\n",
       "   'item_id': 880,\n",
       "   'schema_code': 'n',\n",
       "   'title': 'HireRight',\n",
       "   'suffix': 'htm'}},\n",
       " {'n': {'basename': 'notes-552',\n",
       "   'item_id': 552,\n",
       "   'schema_code': 'n',\n",
       "   'title': \"Sandra's classes\",\n",
       "   'suffix': 'htm'}}]"
      ]
     },
     "execution_count": 8,
     "metadata": {},
     "output_type": "execute_result"
    }
   ],
   "source": [
    "db.query(q)"
   ]
  },
  {
   "cell_type": "code",
   "execution_count": 9,
   "id": "1b9c7a50-1e7d-4f11-acaa-cec674c5ebd8",
   "metadata": {
    "tags": []
   },
   "outputs": [],
   "source": [
    "match = db.match(labels=\"Notes\")"
   ]
  },
  {
   "cell_type": "code",
   "execution_count": 10,
   "id": "151b9ffc-2cdc-4f49-837f-001cf1dab1d2",
   "metadata": {},
   "outputs": [
    {
     "data": {
      "text/plain": [
       "[{'basename': 'overview', 'item_id': 15, 'schema_code': 'n', 'suffix': 'htm'},\n",
       " {'basename': 'notes-880',\n",
       "  'item_id': 880,\n",
       "  'schema_code': 'n',\n",
       "  'title': 'HireRight',\n",
       "  'suffix': 'htm'},\n",
       " {'basename': 'notes-552',\n",
       "  'item_id': 552,\n",
       "  'schema_code': 'n',\n",
       "  'title': \"Sandra's classes\",\n",
       "  'suffix': 'htm'}]"
      ]
     },
     "execution_count": 10,
     "metadata": {},
     "output_type": "execute_result"
    }
   ],
   "source": [
    "# Retrieve the car node \n",
    "db.get_nodes(match, limit=3)"
   ]
  },
  {
   "cell_type": "code",
   "execution_count": 15,
   "id": "8fc24bad-5a7c-43e6-99fd-6cfd1fc8529e",
   "metadata": {},
   "outputs": [],
   "source": [
    "MediaManager.MEDIA_FOLDER = \"D:/tmp/\""
   ]
  },
  {
   "cell_type": "code",
   "execution_count": 18,
   "id": "57e6f55b-4927-44e2-8d6a-d4536f2449c7",
   "metadata": {
    "tags": []
   },
   "outputs": [
    {
     "data": {
      "text/plain": [
       "'hello to the world !!! ?'"
      ]
     },
     "execution_count": 18,
     "metadata": {},
     "output_type": "execute_result"
    }
   ],
   "source": [
    "file_contents = MediaManager.get_from_file(\"test.txt\")\n",
    "file_contents"
   ]
  },
  {
   "cell_type": "code",
   "execution_count": 20,
   "id": "582287e0-e5ae-4a7a-bede-4fe7331963c7",
   "metadata": {
    "tags": []
   },
   "outputs": [
    {
     "data": {
      "text/plain": [
       "['hello', 'world']"
      ]
     },
     "execution_count": 20,
     "metadata": {},
     "output_type": "execute_result"
    }
   ],
   "source": [
    "word_list = FullTextIndexing.extract_unique_good_words(file_contents)\n",
    "word_list"
   ]
  },
  {
   "cell_type": "code",
   "execution_count": null,
   "id": "53e30599-8f89-4099-9051-8bcdcfb0d1b7",
   "metadata": {},
   "outputs": [],
   "source": []
  }
 ],
 "metadata": {
  "kernelspec": {
   "display_name": "Python 3 (ipykernel)",
   "language": "python",
   "name": "python3"
  },
  "language_info": {
   "codemirror_mode": {
    "name": "ipython",
    "version": 3
   },
   "file_extension": ".py",
   "mimetype": "text/x-python",
   "name": "python",
   "nbconvert_exporter": "python",
   "pygments_lexer": "ipython3",
   "version": "3.8.10"
  }
 },
 "nbformat": 4,
 "nbformat_minor": 5
}
