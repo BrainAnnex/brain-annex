{
 "cells": [
  {
   "cell_type": "markdown",
   "id": "22d93371-d72a-498a-b25e-affb11659f0d",
   "metadata": {},
   "source": [
    "## Exploration of full-text indexing"
   ]
  },
  {
   "cell_type": "code",
   "execution_count": 1,
   "id": "910c294a-eb6b-43d7-9369-980f20974e12",
   "metadata": {},
   "outputs": [
    {
     "name": "stdout",
     "output_type": "stream",
     "text": [
      "Added 'D:\\Docs\\- MY CODE\\Brain Annex\\BA-Win7' to sys.path\n"
     ]
    }
   ],
   "source": [
    "import set_path      # Importing this module will add the project's home directory to sys.path"
   ]
  },
  {
   "cell_type": "code",
   "execution_count": 2,
   "id": "e00686a6-c019-414e-92be-a44d32cfe138",
   "metadata": {},
   "outputs": [],
   "source": [
    "import os\n",
    "import sys\n",
    "import getpass\n",
    "\n",
    "from neoaccess import NeoAccess\n",
    "\n",
    "from BrainAnnex.modules.neo_schema.neo_schema import NeoSchema\n",
    "from BrainAnnex.modules.full_text_indexing.full_text_indexing import FullTextIndexing\n",
    "from BrainAnnex.modules.media_manager.media_manager import MediaManager"
   ]
  },
  {
   "cell_type": "code",
   "execution_count": null,
   "id": "3edecd27-e982-4836-9e03-ab9c0510fede",
   "metadata": {
    "tags": []
   },
   "outputs": [],
   "source": []
  },
  {
   "cell_type": "markdown",
   "id": "be1fb174-5bb9-4dee-a920-0ac5dcfb74a5",
   "metadata": {},
   "source": [
    "# Connect to the database"
   ]
  },
  {
   "cell_type": "code",
   "execution_count": 3,
   "id": "4f62ab54-ffd7-4432-8f4c-dacf5618fa91",
   "metadata": {
    "tags": []
   },
   "outputs": [],
   "source": [
    "# Save your credentials here - or use the prompts given by the next cell\n",
    "host = \"\"      # EXAMPLES:  bolt://123.456.789.012   OR   neo4j://localhost\n",
    "password = \"\""
   ]
  },
  {
   "cell_type": "code",
   "execution_count": 4,
   "id": "8ebe967e-3446-4ca5-8584-9603ec532a9b",
   "metadata": {},
   "outputs": [
    {
     "name": "stdout",
     "output_type": "stream",
     "text": [
      "To create a database connection, enter the host IP, but leave out the port number: (EXAMPLES:  bolt://1.2.3.4  OR  neo4j://localhost )\n",
      "\n"
     ]
    },
    {
     "name": "stdin",
     "output_type": "stream",
     "text": [
      "Enter host IP WITHOUT the port number.  EXAMPLE: bolt://123.456.789.012  bolt://123.456.789.012\n",
      "Enter the database password: ········\n"
     ]
    },
    {
     "name": "stdout",
     "output_type": "stream",
     "text": [
      "\n",
      "=> Will be using: host='bolt://123.456.789.012:7687', username='neo4j', password=**********\n"
     ]
    }
   ],
   "source": [
    "print(\"To create a database connection, enter the host IP, but leave out the port number: (EXAMPLES:  bolt://1.2.3.4  OR  neo4j://localhost )\\n\")\n",
    "\n",
    "host = input(\"Enter host IP WITHOUT the port number.  EXAMPLE: bolt://123.456.789.012 \")\n",
    "host += \":7687\"    # EXAMPLE of host value:  \"bolt://123.456.789.012:7687\"\n",
    "\n",
    "password = getpass.getpass(\"Enter the database password:\")\n",
    "\n",
    "print(f\"\\n=> Will be using: host='{host}', username='neo4j', password=**********\")"
   ]
  },
  {
   "cell_type": "code",
   "execution_count": null,
   "id": "f742deed-9b21-4129-966e-659ce059fa1e",
   "metadata": {},
   "outputs": [],
   "source": []
  },
  {
   "cell_type": "code",
   "execution_count": 8,
   "id": "7247f139-9f06-41d1-98e8-410ff7c9f177",
   "metadata": {},
   "outputs": [
    {
     "name": "stdout",
     "output_type": "stream",
     "text": [
      "Attempting to connect to Neo4j database\n"
     ]
    }
   ],
   "source": [
    "db = NeoAccess(host=host,\n",
    "               credentials=(\"neo4j\", password), debug=False)   # Notice the debug option being OFF"
   ]
  },
  {
   "cell_type": "code",
   "execution_count": 9,
   "id": "c96ece03-2b07-4a4d-ad6e-e41ccbf67251",
   "metadata": {},
   "outputs": [
    {
     "name": "stdout",
     "output_type": "stream",
     "text": [
      "Version of the Neo4j driver:  4.4.11\n"
     ]
    }
   ],
   "source": [
    "print(\"Version of the Neo4j driver: \", db.version())"
   ]
  },
  {
   "cell_type": "markdown",
   "id": "4ca98da0-f267-4efa-8302-624efbd1a744",
   "metadata": {},
   "source": [
    "# Explorations"
   ]
  },
  {
   "cell_type": "code",
   "execution_count": 10,
   "id": "e86c1f5b-490f-4853-8944-f6a7ea5c2703",
   "metadata": {
    "tags": []
   },
   "outputs": [
    {
     "data": {
      "text/plain": [
       "0"
      ]
     },
     "execution_count": 10,
     "metadata": {},
     "output_type": "execute_result"
    }
   ],
   "source": [
    "# Verify that the database is empty\n",
    "q = \"MATCH (n) RETURN COUNT(n) AS number_nodes\"\n",
    "\n",
    "db.query(q, single_cell=\"number_nodes\")"
   ]
  },
  {
   "cell_type": "code",
   "execution_count": null,
   "id": "8ffff2e4-9be8-445f-a82b-d111b6755905",
   "metadata": {
    "tags": []
   },
   "outputs": [],
   "source": [
    "q = \"MATCH (n:Notes) RETURN n LIMIT 3\""
   ]
  },
  {
   "cell_type": "code",
   "execution_count": 7,
   "id": "3e62b317-074e-43fb-bc84-251fee600d6d",
   "metadata": {
    "tags": []
   },
   "outputs": [
    {
     "data": {
      "text/plain": [
       "[]"
      ]
     },
     "execution_count": 7,
     "metadata": {},
     "output_type": "execute_result"
    }
   ],
   "source": [
    "db.query(q)"
   ]
  },
  {
   "cell_type": "code",
   "execution_count": 8,
   "id": "1b9c7a50-1e7d-4f11-acaa-cec674c5ebd8",
   "metadata": {
    "tags": []
   },
   "outputs": [],
   "source": [
    "match = db.match(labels=\"Notes\")"
   ]
  },
  {
   "cell_type": "code",
   "execution_count": 9,
   "id": "151b9ffc-2cdc-4f49-837f-001cf1dab1d2",
   "metadata": {},
   "outputs": [
    {
     "data": {
      "text/plain": [
       "[]"
      ]
     },
     "execution_count": 9,
     "metadata": {},
     "output_type": "execute_result"
    }
   ],
   "source": [
    "# Retrieve the car node \n",
    "db.get_nodes(match, limit=3)"
   ]
  },
  {
   "cell_type": "code",
   "execution_count": null,
   "id": "cb881eb5-cb8b-4a7c-b7b1-a5103d3ef9d4",
   "metadata": {},
   "outputs": [],
   "source": []
  },
  {
   "cell_type": "code",
   "execution_count": 11,
   "id": "fd329598-dedd-4e53-b1ea-8bce1f540b3c",
   "metadata": {
    "tags": []
   },
   "outputs": [],
   "source": [
    "NeoSchema.db = db\n",
    "FullTextIndexing.db = db"
   ]
  },
  {
   "cell_type": "code",
   "execution_count": 12,
   "id": "13d47b2c-348b-437b-a595-84e2659ba8a1",
   "metadata": {
    "tags": []
   },
   "outputs": [],
   "source": [
    "MediaManager.set_media_folder(\"D:/tmp/\")"
   ]
  },
  {
   "cell_type": "code",
   "execution_count": 13,
   "id": "53e30599-8f89-4099-9051-8bcdcfb0d1b7",
   "metadata": {},
   "outputs": [],
   "source": [
    "FullTextIndexing.initialize_schema()"
   ]
  },
  {
   "cell_type": "code",
   "execution_count": null,
   "id": "8250681a-ab43-481c-9ebc-63993dfa0032",
   "metadata": {},
   "outputs": [],
   "source": []
  },
  {
   "cell_type": "code",
   "execution_count": 16,
   "id": "57e6f55b-4927-44e2-8d6a-d4536f2449c7",
   "metadata": {
    "tags": []
   },
   "outputs": [
    {
     "data": {
      "text/plain": [
       "'hello to the world !!! ?  Welcome to learning how she cooks with potatoes...'"
      ]
     },
     "execution_count": 16,
     "metadata": {},
     "output_type": "execute_result"
    }
   ],
   "source": [
    "filename = \"test1.txt\"\n",
    "file_contents = MediaManager.get_from_file(filename)\n",
    "file_contents"
   ]
  },
  {
   "cell_type": "code",
   "execution_count": 17,
   "id": "582287e0-e5ae-4a7a-bede-4fe7331963c7",
   "metadata": {
    "tags": []
   },
   "outputs": [
    {
     "data": {
      "text/plain": [
       "['hello', 'world', 'welcome', 'learning', 'cooks', 'potatoes']"
      ]
     },
     "execution_count": 17,
     "metadata": {},
     "output_type": "execute_result"
    }
   ],
   "source": [
    "word_list = FullTextIndexing.extract_unique_good_words(file_contents)\n",
    "word_list"
   ]
  },
  {
   "cell_type": "code",
   "execution_count": 18,
   "id": "ef6ebaa4-4e1b-4c51-8fbf-ae85722569e6",
   "metadata": {
    "tags": []
   },
   "outputs": [
    {
     "data": {
      "text/plain": [
       "25"
      ]
     },
     "execution_count": 18,
     "metadata": {},
     "output_type": "execute_result"
    }
   ],
   "source": [
    "content_item_id = NeoSchema.create_data_node(class_node=\"Content Item\", properties = {\"name\": filename})\n",
    "content_item_id"
   ]
  },
  {
   "cell_type": "code",
   "execution_count": 19,
   "id": "2dc06ee4-b0e9-451f-9a16-6ad144c0b2ff",
   "metadata": {
    "tags": []
   },
   "outputs": [],
   "source": [
    "FullTextIndexing.new_indexing(content_item_id = content_item_id, unique_words = word_list)"
   ]
  },
  {
   "cell_type": "code",
   "execution_count": null,
   "id": "9e928056-1db6-415d-b0c6-e71bb07471d7",
   "metadata": {},
   "outputs": [],
   "source": []
  },
  {
   "cell_type": "code",
   "execution_count": 20,
   "id": "3b456b09-9300-4515-b520-a5c87a1e0f56",
   "metadata": {
    "tags": []
   },
   "outputs": [
    {
     "data": {
      "text/plain": [
       "\"<p>Let's make a <i>much better world</i>, shall we?  What do you say to that enticing prospect?</p>\\n\\n<p>Starting on a small scale &ndash; we&rsquo;ll learn cooking a potato well.</p>\""
      ]
     },
     "execution_count": 20,
     "metadata": {},
     "output_type": "execute_result"
    }
   ],
   "source": [
    "filename = \"test2.htm\"\n",
    "file_contents = MediaManager.get_from_file(filename)\n",
    "file_contents"
   ]
  },
  {
   "cell_type": "code",
   "execution_count": 21,
   "id": "2a9a76f2-be99-45de-937c-a9e7e4733974",
   "metadata": {
    "tags": []
   },
   "outputs": [
    {
     "data": {
      "text/plain": [
       "['world', 'say', 'enticing', 'prospect', 'scale', 'learn', 'cooking', 'potato']"
      ]
     },
     "execution_count": 21,
     "metadata": {},
     "output_type": "execute_result"
    }
   ],
   "source": [
    "word_list = FullTextIndexing.extract_unique_good_words(file_contents)\n",
    "word_list"
   ]
  },
  {
   "cell_type": "code",
   "execution_count": 22,
   "id": "65f70363-f772-490e-af20-883b0fc0dc9b",
   "metadata": {
    "tags": []
   },
   "outputs": [
    {
     "data": {
      "text/plain": [
       "0"
      ]
     },
     "execution_count": 22,
     "metadata": {},
     "output_type": "execute_result"
    }
   ],
   "source": [
    "content_item_id = NeoSchema.create_data_node(class_node=\"Content Item\", properties = {\"name\": filename})\n",
    "content_item_id"
   ]
  },
  {
   "cell_type": "code",
   "execution_count": 23,
   "id": "5bb78b01-2dd7-4159-9496-49738004225b",
   "metadata": {
    "tags": []
   },
   "outputs": [],
   "source": [
    "FullTextIndexing.new_indexing(content_item_id = content_item_id, unique_words = word_list)"
   ]
  },
  {
   "cell_type": "code",
   "execution_count": null,
   "id": "478e4d76-089f-41bb-89d7-63ce65d2d412",
   "metadata": {},
   "outputs": [],
   "source": []
  },
  {
   "cell_type": "code",
   "execution_count": 30,
   "id": "630b7a82-f846-4efb-b43f-499e28ae1ff3",
   "metadata": {
    "tags": []
   },
   "outputs": [],
   "source": [
    "def search_word(word :str):\n",
    "    q= f'''MATCH (w:Word)-[:occurs]->(:Indexer)<-[:has_index]-(ci:`Content Item`)\n",
    "         WHERE w.name CONTAINS toLower('{word}')\n",
    "         RETURN ci.name AS content_name\n",
    "         '''\n",
    "    result = db.query(q, single_column=\"content_name\")\n",
    "    return result"
   ]
  },
  {
   "cell_type": "code",
   "execution_count": null,
   "id": "a50dac74-5c63-4d8f-9f45-03ddaeb1dad1",
   "metadata": {},
   "outputs": [],
   "source": []
  },
  {
   "cell_type": "code",
   "execution_count": 31,
   "id": "f0efce75-3353-489b-9502-1a377a0ee964",
   "metadata": {
    "tags": []
   },
   "outputs": [
    {
     "data": {
      "text/plain": [
       "['test1.txt']"
      ]
     },
     "execution_count": 31,
     "metadata": {},
     "output_type": "execute_result"
    }
   ],
   "source": [
    "search_word(\"hello\")"
   ]
  },
  {
   "cell_type": "code",
   "execution_count": 32,
   "id": "45087339-97b3-461a-95f8-58230394b91d",
   "metadata": {
    "tags": []
   },
   "outputs": [
    {
     "data": {
      "text/plain": [
       "['test2.htm', 'test1.txt']"
      ]
     },
     "execution_count": 32,
     "metadata": {},
     "output_type": "execute_result"
    }
   ],
   "source": [
    "search_word(\"world\")"
   ]
  },
  {
   "cell_type": "code",
   "execution_count": 33,
   "id": "14a09629-0ab4-4ad3-92ac-7d6f150b80a6",
   "metadata": {
    "tags": []
   },
   "outputs": [
    {
     "data": {
      "text/plain": [
       "['test2.htm', 'test1.txt']"
      ]
     },
     "execution_count": 33,
     "metadata": {},
     "output_type": "execute_result"
    }
   ],
   "source": [
    "search_word(\"POTATO\")"
   ]
  },
  {
   "cell_type": "code",
   "execution_count": 34,
   "id": "ea744c93-e11f-43cd-a213-86f4d3a37af8",
   "metadata": {
    "tags": []
   },
   "outputs": [
    {
     "data": {
      "text/plain": [
       "['test1.txt']"
      ]
     },
     "execution_count": 34,
     "metadata": {},
     "output_type": "execute_result"
    }
   ],
   "source": [
    "search_word(\"POTATOES\")"
   ]
  },
  {
   "cell_type": "code",
   "execution_count": 35,
   "id": "99226331-f12a-4a7a-80c9-464a54e7858b",
   "metadata": {
    "tags": []
   },
   "outputs": [
    {
     "data": {
      "text/plain": [
       "['test2.htm', 'test1.txt']"
      ]
     },
     "execution_count": 35,
     "metadata": {},
     "output_type": "execute_result"
    }
   ],
   "source": [
    "search_word(\"Learn\")"
   ]
  },
  {
   "cell_type": "code",
   "execution_count": 37,
   "id": "a051f005-6468-4a8e-ae94-82faa60c97c5",
   "metadata": {
    "tags": []
   },
   "outputs": [
    {
     "data": {
      "text/plain": [
       "['test1.txt']"
      ]
     },
     "execution_count": 37,
     "metadata": {},
     "output_type": "execute_result"
    }
   ],
   "source": [
    "search_word(\"Learning\")"
   ]
  },
  {
   "cell_type": "code",
   "execution_count": null,
   "id": "64d75875-9a50-4394-b9ff-551cb19684f3",
   "metadata": {},
   "outputs": [],
   "source": []
  }
 ],
 "metadata": {
  "kernelspec": {
   "display_name": "Python 3 (ipykernel)",
   "language": "python",
   "name": "python3"
  },
  "language_info": {
   "codemirror_mode": {
    "name": "ipython",
    "version": 3
   },
   "file_extension": ".py",
   "mimetype": "text/x-python",
   "name": "python",
   "nbconvert_exporter": "python",
   "pygments_lexer": "ipython3",
   "version": "3.8.10"
  }
 },
 "nbformat": 4,
 "nbformat_minor": 5
}
