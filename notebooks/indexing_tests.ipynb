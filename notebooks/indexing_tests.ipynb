{
 "cells": [
  {
   "cell_type": "markdown",
   "id": "22d93371-d72a-498a-b25e-affb11659f0d",
   "metadata": {},
   "source": [
    "## Exploration of full-text indexing"
   ]
  },
  {
   "cell_type": "code",
   "execution_count": 1,
   "id": "910c294a-eb6b-43d7-9369-980f20974e12",
   "metadata": {},
   "outputs": [
    {
     "name": "stdout",
     "output_type": "stream",
     "text": [
      "Added 'D:\\Docs\\- MY CODE\\Brain Annex\\BA-Win7' to sys.path\n"
     ]
    }
   ],
   "source": [
    "import set_path      # Importing this module will add the project's home directory to sys.path"
   ]
  },
  {
   "cell_type": "code",
   "execution_count": 2,
   "id": "e00686a6-c019-414e-92be-a44d32cfe138",
   "metadata": {},
   "outputs": [],
   "source": [
    "import os\n",
    "import sys\n",
    "import getpass\n",
    "\n",
    "from neoaccess import NeoAccess\n",
    "\n",
    "from BrainAnnex.modules.neo_schema.neo_schema import NeoSchema\n",
    "from BrainAnnex.modules.full_text_indexing.full_text_indexing import FullTextIndexing\n",
    "from BrainAnnex.modules.media_manager.media_manager import MediaManager"
   ]
  },
  {
   "cell_type": "code",
   "execution_count": null,
   "id": "3edecd27-e982-4836-9e03-ab9c0510fede",
   "metadata": {
    "tags": []
   },
   "outputs": [],
   "source": []
  },
  {
   "cell_type": "markdown",
   "id": "be1fb174-5bb9-4dee-a920-0ac5dcfb74a5",
   "metadata": {},
   "source": [
    "# Connect to the database"
   ]
  },
  {
   "cell_type": "code",
   "execution_count": 3,
   "id": "4f62ab54-ffd7-4432-8f4c-dacf5618fa91",
   "metadata": {
    "tags": []
   },
   "outputs": [],
   "source": [
    "# Save your credentials here - or use the prompts given by the next cell\n",
    "host = \"\"      # EXAMPLES:  bolt://123.456.789.012   OR   neo4j://localhost\n",
    "password = \"\""
   ]
  },
  {
   "cell_type": "code",
   "execution_count": 4,
   "id": "8ebe967e-3446-4ca5-8584-9603ec532a9b",
   "metadata": {},
   "outputs": [
    {
     "name": "stdout",
     "output_type": "stream",
     "text": [
      "To create a database connection, enter the host IP, but leave out the port number: (EXAMPLES:  bolt://1.2.3.4  OR  neo4j://localhost )\n",
      "\n"
     ]
    },
    {
     "name": "stdin",
     "output_type": "stream",
     "text": [
      "Enter host IP WITHOUT the port number.  EXAMPLE: bolt://123.456.789.012  bolt://123.456.789.012\n",
      "Enter the database password: ········\n"
     ]
    },
    {
     "name": "stdout",
     "output_type": "stream",
     "text": [
      "\n",
      "=> Will be using: host='bolt://123.456.789.012:7687', username='neo4j', password=**********\n"
     ]
    }
   ],
   "source": [
    "print(\"To create a database connection, enter the host IP, but leave out the port number: (EXAMPLES:  bolt://1.2.3.4  OR  neo4j://localhost )\\n\")\n",
    "\n",
    "host = input(\"Enter host IP WITHOUT the port number.  EXAMPLE: bolt://123.456.789.012 \")\n",
    "host += \":7687\"    # EXAMPLE of host value:  \"bolt://123.456.789.012:7687\"\n",
    "\n",
    "password = getpass.getpass(\"Enter the database password:\")\n",
    "\n",
    "print(f\"\\n=> Will be using: host='{host}', username='neo4j', password=**********\")"
   ]
  },
  {
   "cell_type": "code",
   "execution_count": null,
   "id": "f742deed-9b21-4129-966e-659ce059fa1e",
   "metadata": {},
   "outputs": [],
   "source": []
  },
  {
   "cell_type": "code",
   "execution_count": 4,
   "id": "7247f139-9f06-41d1-98e8-410ff7c9f177",
   "metadata": {},
   "outputs": [
    {
     "name": "stdout",
     "output_type": "stream",
     "text": [
      "Attempting to connect to Neo4j database\n"
     ]
    }
   ],
   "source": [
    "db = NeoAccess(host=host,\n",
    "               credentials=(\"neo4j\", password), debug=False)   # Notice the debug option being OFF"
   ]
  },
  {
   "cell_type": "code",
   "execution_count": 5,
   "id": "c96ece03-2b07-4a4d-ad6e-e41ccbf67251",
   "metadata": {},
   "outputs": [
    {
     "name": "stdout",
     "output_type": "stream",
     "text": [
      "Version of the Neo4j driver:  4.4.11\n"
     ]
    }
   ],
   "source": [
    "print(\"Version of the Neo4j driver: \", db.version())"
   ]
  },
  {
   "cell_type": "markdown",
   "id": "4ca98da0-f267-4efa-8302-624efbd1a744",
   "metadata": {},
   "source": [
    "# Explorations"
   ]
  },
  {
   "cell_type": "code",
   "execution_count": null,
   "id": "977923a1-1a0f-4c20-a117-7e174c26f863",
   "metadata": {},
   "outputs": [],
   "source": [
    "# Verify that the database is empty\n",
    "q = \"MATCH (n) RETURN COUNT(n) AS number_nodes\"\n",
    "\n",
    "db.query(q, single_cell=\"number_nodes\")"
   ]
  },
  {
   "cell_type": "code",
   "execution_count": 7,
   "id": "e86c1f5b-490f-4853-8944-f6a7ea5c2703",
   "metadata": {
    "tags": []
   },
   "outputs": [
    {
     "data": {
      "text/plain": [
       "484"
      ]
     },
     "execution_count": 7,
     "metadata": {},
     "output_type": "execute_result"
    }
   ],
   "source": [
    "# Count the number of Notes\n",
    "q = \"MATCH (n: Notes) RETURN COUNT(n) AS number_notes_items\"\n",
    "\n",
    "db.query(q, single_cell=\"number_notes_items\")"
   ]
  },
  {
   "cell_type": "code",
   "execution_count": null,
   "id": "8ffff2e4-9be8-445f-a82b-d111b6755905",
   "metadata": {
    "tags": []
   },
   "outputs": [],
   "source": [
    "q = \"MATCH (n:Notes) RETURN n LIMIT 3\""
   ]
  },
  {
   "cell_type": "code",
   "execution_count": 7,
   "id": "3e62b317-074e-43fb-bc84-251fee600d6d",
   "metadata": {
    "tags": []
   },
   "outputs": [
    {
     "data": {
      "text/plain": [
       "[]"
      ]
     },
     "execution_count": 7,
     "metadata": {},
     "output_type": "execute_result"
    }
   ],
   "source": [
    "db.query(q)"
   ]
  },
  {
   "cell_type": "code",
   "execution_count": 8,
   "id": "1b9c7a50-1e7d-4f11-acaa-cec674c5ebd8",
   "metadata": {
    "tags": []
   },
   "outputs": [],
   "source": [
    "match = db.match(labels=\"Notes\")"
   ]
  },
  {
   "cell_type": "code",
   "execution_count": 9,
   "id": "151b9ffc-2cdc-4f49-837f-001cf1dab1d2",
   "metadata": {},
   "outputs": [
    {
     "data": {
      "text/plain": [
       "[]"
      ]
     },
     "execution_count": 9,
     "metadata": {},
     "output_type": "execute_result"
    }
   ],
   "source": [
    "# Retrieve the car node \n",
    "db.get_nodes(match, limit=3)"
   ]
  },
  {
   "cell_type": "code",
   "execution_count": null,
   "id": "cb881eb5-cb8b-4a7c-b7b1-a5103d3ef9d4",
   "metadata": {},
   "outputs": [],
   "source": []
  },
  {
   "cell_type": "code",
   "execution_count": 8,
   "id": "fd329598-dedd-4e53-b1ea-8bce1f540b3c",
   "metadata": {
    "tags": []
   },
   "outputs": [],
   "source": [
    "NeoSchema.db = db\n",
    "FullTextIndexing.db = db"
   ]
  },
  {
   "cell_type": "code",
   "execution_count": 9,
   "id": "13d47b2c-348b-437b-a595-84e2659ba8a1",
   "metadata": {
    "tags": []
   },
   "outputs": [],
   "source": [
    "MediaManager.set_media_folder(\"D:/tmp/transfer/\")"
   ]
  },
  {
   "cell_type": "code",
   "execution_count": 10,
   "id": "1133a256-7bce-41a1-9ff0-7907903d535d",
   "metadata": {},
   "outputs": [],
   "source": [
    "import os\n",
    "\n",
    "path = \"D:/tmp/transfer\"     # Use forward slashes even on Windows!"
   ]
  },
  {
   "cell_type": "code",
   "execution_count": 16,
   "id": "f5e70232-b808-4205-8482-8ad9747ad1bd",
   "metadata": {},
   "outputs": [
    {
     "name": "stdout",
     "output_type": "stream",
     "text": [
      "484\n"
     ]
    }
   ],
   "source": [
    "file_list = os.listdir(path)\n",
    "\n",
    "print(len(file_list))\n",
    "#print(os.listdir(path))"
   ]
  },
  {
   "cell_type": "code",
   "execution_count": 17,
   "id": "3871b86b-53de-4f6f-996b-7ac9449885eb",
   "metadata": {},
   "outputs": [],
   "source": [
    "# Locate files that lack a database record\n",
    "for filename in file_list:   # [0:13]\n",
    "    #print(filename)\n",
    "    (basename, suffix) = os.path.splitext(filename) \n",
    "    q = f\"MATCH (n:Notes) WHERE n.basename='{basename}' AND n.suffix='htm' RETURN COUNT(n) AS number_nodes\"\n",
    "    n = db.query(q, single_cell=\"number_nodes\")\n",
    "    if n == 0:\n",
    "        print(f\"Notes record for file `{filename}`  NOT FOUND!\")"
   ]
  },
  {
   "cell_type": "code",
   "execution_count": 11,
   "id": "58bc93d9-793e-40f4-8fc6-47c2575914a9",
   "metadata": {},
   "outputs": [
    {
     "data": {
      "text/plain": [
       "['notes-1000.htm', 'notes-1001.htm']"
      ]
     },
     "execution_count": 11,
     "metadata": {},
     "output_type": "execute_result"
    }
   ],
   "source": [
    "file_list[0:2]"
   ]
  },
  {
   "cell_type": "code",
   "execution_count": null,
   "id": "ba0c992c-5ad0-4647-8903-90fcf7b12d54",
   "metadata": {},
   "outputs": [],
   "source": [
    "# Index the content of all the files\n",
    "i = 1\n",
    "for filename in file_list[1:]:   #file_list[0:2]\n",
    "    print(f\"\\n {i} -------------------------\\n\", filename)\n",
    "    (basename, suffix) = os.path.splitext(filename) \n",
    "    q = f\"MATCH (n:Notes) WHERE n.basename='{basename}' AND n.suffix='htm' RETURN ID(n) AS node_int_id\"\n",
    "    node_int_id = db.query(q, single_cell=\"node_int_id\")\n",
    "    print(\"    node_int_id: \", node_int_id)\n",
    "    file_contents = MediaManager.get_from_file(filename)\n",
    "    #print(file_contents)\n",
    "    word_list = FullTextIndexing.extract_unique_good_words(file_contents)\n",
    "    print(word_list)\n",
    "    FullTextIndexing.new_indexing(content_item_id = node_int_id, unique_words = word_list)\n",
    "    i += 1"
   ]
  },
  {
   "cell_type": "code",
   "execution_count": null,
   "id": "34eda69b-c0cc-4b0c-96d7-41b5f2967eca",
   "metadata": {},
   "outputs": [],
   "source": []
  },
  {
   "cell_type": "code",
   "execution_count": null,
   "id": "47e9d0bb-9631-496b-8aca-8a9578e39451",
   "metadata": {},
   "outputs": [],
   "source": []
  },
  {
   "cell_type": "code",
   "execution_count": null,
   "id": "e274b5a5-ff09-49b3-b977-bbe6254f2e14",
   "metadata": {},
   "outputs": [],
   "source": []
  },
  {
   "cell_type": "code",
   "execution_count": 16,
   "id": "9327b283-9152-42e0-834c-ac9773eefa33",
   "metadata": {},
   "outputs": [
    {
     "data": {
      "text/plain": [
       "1"
      ]
     },
     "execution_count": 16,
     "metadata": {},
     "output_type": "execute_result"
    }
   ],
   "source": [
    "q = \"MATCH (n:Notes) WHERE n.basename='notes-1001' AND n.suffix='htm' RETURN COUNT(n) AS number_nodes\"\n",
    "\n",
    "db.query(q, single_cell=\"number_nodes\")"
   ]
  },
  {
   "cell_type": "code",
   "execution_count": 17,
   "id": "ba8e0c13-45dc-4c4b-b4c5-65e460172726",
   "metadata": {},
   "outputs": [
    {
     "data": {
      "text/plain": [
       "0"
      ]
     },
     "execution_count": 17,
     "metadata": {},
     "output_type": "execute_result"
    }
   ],
   "source": [
    "q = \"MATCH (n:Notes) WHERE n.basename='notes-1000' AND n.suffix='htm' RETURN COUNT(n) AS number_nodes\"\n",
    "\n",
    "db.query(q, single_cell=\"number_nodes\")"
   ]
  },
  {
   "cell_type": "code",
   "execution_count": null,
   "id": "aae59071-62dd-419b-a57f-478df514d454",
   "metadata": {},
   "outputs": [],
   "source": []
  },
  {
   "cell_type": "code",
   "execution_count": 20,
   "id": "3fd44317-dd8b-4e64-91c7-3ed57dc7cef2",
   "metadata": {},
   "outputs": [
    {
     "name": "stdout",
     "output_type": "stream",
     "text": [
      "\n",
      " notes-1000.htm\n",
      "<p><em>From <a href=\"https://docs.oracle.com/en-us/iaas/Content/Compute/Tasks/accessinginstance.htm\">https://docs.oracle.com/en-us/iaas/Content/Compute/Tasks/accessinginstance.htm</a>:</em></p>\n",
      "\n",
      "<h3>Connect to the Linux instance using a .ppk private key file</h3>\n",
      "\n",
      "<p>If the instance uses a key pair that you created using PuTTY Key Generator, use the following procedure.</p>\n",
      "\n",
      "<ol>\n",
      "\t<li>Open PuTTY.</li>\n",
      "\t<li>\n",
      "\t<p>In the <strong>Category</strong> pane, select <strong>Session</strong> and enter the following:</p>\n",
      "\n",
      "\t<ul>\n",
      "\t\t<li>\n",
      "\t\t<p><strong>Host Name (or IP address):</strong></p>\n",
      "\n",
      "\t\t<p><code><var>&lt;username&gt;</var>@<var>&lt;public-ip-address&gt;</var></code></p>\n",
      "\n",
      "\t\t<p><var>&lt;username&gt;</var> is the default username for the instance. For Oracle Linux and CentOS images, the default username is <code>opc</code>. For Ubuntu images, the default username is <code>ubuntu</code>.</p>\n",
      "\n",
      "\t\t<p><var>&lt;public-ip-address&gt;</var> is your instance public IP&nbsp;address that you retrieved from the Console</p>\n",
      "\t\t</li>\n",
      "\t\t<li><strong>Port:</strong> 22</li>\n",
      "\t\t<li><strong>Connection type:</strong> SSH</li>\n",
      "\t</ul>\n",
      "\t</li>\n",
      "\t<li>In the <strong>Category</strong> pane, expand <strong>Window</strong>, and then select <strong>Translation</strong>.<br>\n",
      "\t&nbsp;</li>\n",
      "\t<li>In the <strong>Remote character set</strong> drop-down list, select <strong>UTF-8</strong>. The default locale setting on Linux-based instances is UTF-8, and this configures PuTTY to use the same locale.<br>\n",
      "\t&nbsp;</li>\n",
      "\t<li>In the <strong>Category</strong> pane, expand <strong>Connection</strong>, expand <strong>SSH</strong>, and then click <strong>Auth</strong>.</li>\n",
      "\t<li>\n",
      "\t<p>Click <strong>Browse</strong>, and then select your .ppk private key file.</p>\n",
      "\t</li>\n",
      "\t<li>\n",
      "\t<p>Click <strong>Open</strong> to start the session.</p>\n",
      "\n",
      "\t<p>If this is your first time connecting to the instance, you might see a message that the server&#39;s host key is not cached in the registry. Click <strong>Yes</strong> to continue the connection.</p>\n",
      "\t</li>\n",
      "</ol>\n",
      "\n",
      "['docs', 'oracle', 'en', 'iaas', 'content', 'compute', 'tasks', 'accessinginstance', 'htm', 'connect', 'linux', 'instance', 'using', 'ppk', 'private', 'key', 'file', 'uses', 'pair', 'created', 'putty', 'generator', 'following', 'procedure', 'open', 'category', 'pane', 'select', 'session', 'enter', 'host', 'name', 'ip', 'address', 'default', 'username', 'centos', 'images', 'opc', 'ubuntu', 'public', 'retrieved', 'console', 'port', 'connection', 'type', 'ssh', 'expand', 'window', 'translation', 'remote', 'character', 'set', 'drop', 'list', 'utf', 'locale', 'setting', 'based', 'instances', 'configures', 'click', 'auth', 'browse', 'first', 'time', 'connecting', 'see', 'message', 'server', 'cached', 'registry', 'continue']\n",
      "\n",
      " notes-1001.htm\n",
      "<p><strong>Convert a private key (auto-generated by the Oracle cloud) from the &quot;.key&quot; format </strong>(which needs OpenSSH - no bueno on Win7, and annoying even in Win10)<strong> to the &quot;.ppk&quot; format (used by PuTTY):</strong></p>\n",
      "\n",
      "<ol>\n",
      "\t<li>\n",
      "\t<p>Open PuTTYgen.</p>\n",
      "\t</li>\n",
      "\t<li>\n",
      "\t<p>Click <strong>Load</strong>, and select the private key generated when you created the instance. The extension for the key file is <code>.key</code>.</p>\n",
      "\t</li>\n",
      "\t<li>\n",
      "\t<p>Click <strong>Save private key</strong>.</p>\n",
      "\t</li>\n",
      "\t<li>\n",
      "\t<p>Answer &quot;Yes&quot; when it asks &quot;Are you sure you want to save this key without a passphrase to protect it?&quot;</p>\n",
      "\t</li>\n",
      "\t<li>\n",
      "\t<p>Specify a name for the key. The extension for new private key will be <code>.ppk</code>.</p>\n",
      "\t</li>\n",
      "\t<li>\n",
      "\t<p>Click <strong>Save</strong>.</p>\n",
      "\t</li>\n",
      "</ol>\n",
      "\n",
      "['convert', 'private', 'key', 'auto', 'generated', 'oracle', 'cloud', 'format', 'openssh', 'bueno', 'win7', 'annoying', 'even', 'win10', 'ppk', 'putty', 'open', 'puttygen', 'click', 'load', 'select', 'created', 'instance', 'extension', 'file', 'save', 'passphrase', 'protect', 'specify', 'name']\n"
     ]
    }
   ],
   "source": [
    "for filename in file_list[0:2]:\n",
    "    print(\"\\n\", filename)\n",
    "    file_contents = MediaManager.get_from_file(filename)\n",
    "    print(file_contents)\n",
    "    word_list = FullTextIndexing.extract_unique_good_words(file_contents)\n",
    "    print(word_list)"
   ]
  },
  {
   "cell_type": "code",
   "execution_count": null,
   "id": "d2e3b9cd-341d-4a77-b9ad-b2c50e7b8fab",
   "metadata": {},
   "outputs": [],
   "source": []
  },
  {
   "cell_type": "code",
   "execution_count": 28,
   "id": "d4749ec4-8b48-4d92-8c99-f28fd5605255",
   "metadata": {},
   "outputs": [
    {
     "name": "stdout",
     "output_type": "stream",
     "text": [
      "<p>As a PLATFORM for SYSTEMS BIOLOGY, the open-source project LIFE123 (https://life123.science) offers a growing set of tools to wrestle the complications of numerical solutions to complex dynamical systems, such as cycles of biochemical reactions and diffusion.<br>\n",
      "<br>\n",
      "* ONLY 1/2 OF THE BATTLE, is to offer functionality to set up and simulate webs of reactions, optionally with spatial components and diffusion (plus - upcoming - membranes...)<br>\n",
      "<br>\n",
      "* The OTHER 1/2 OF THE BATTLE is a battery of tools, to tame numerical instabilities, to visualize &amp; analyze the results, to provide helpful diagnostics, and to integrate high-performance computing: a collaboration of software engineering, data science, numerical methods, biochemistry &amp; biology, among other fields.<br>\n",
      "<br>\n",
      "=&gt; Pleased to announce version Beta 24 of this collaborative OPEN-SOURCE project.<br>\n",
      "<br>\n",
      "Explore it all with just a few lines of Python code in convenient Jupyter notebooks! (optionally in a 1-click hosted environment 😀 )<br>\n",
      "<br>\n",
      "VIEW THE NOTEBOOK with this experiment: <a href=\"https://nbviewer.org/github/BrainAnnex/life123/blob/main/experiments/reactions_single_compartment/negative_concentrations_1.ipynb\">https://nbviewer.org/github/BrainAnnex/life123/blob/main/experiments/reactions_single_compartment/negative_concentrations_1.ipynb</a><br>\n",
      "<br>\n",
      "BRIEF INTRO VIDEO: <a href=\"https://www.youtube.com/watch?v=TCvQUKPVimE\">https://www.youtube.com/watch?v=TCvQUKPVimE</a><br>\n",
      "<br>\n",
      "1-CLICK to RUN IT LIVE! (say &quot;Cancel&quot; to the prompt; see brief vid, above, for explanation): <a href=\"https://mybinder.org/v2/gh/BrainAnnex/life123/main\">https://mybinder.org/v2/gh/BrainAnnex/life123/main</a><br>\n",
      "<br>\n",
      "#medicine #systemsbiology #insilico #reactomics #biology #chemistry #biochemistry</p>\n",
      "\n"
     ]
    }
   ],
   "source": [
    "filename = \"notes-2637.htm\"\n",
    "file_contents = MediaManager.get_from_file(filename)\n",
    "print(file_contents)\n",
    "word_list = FullTextIndexing.extract_unique_good_words(file_contents)\n",
    "word_list\n",
    "\n",
    "content_item_id = NeoSchema.create_data_node(class_node=\"Content Item\", properties = {\"name\": filename})\n",
    "content_item_id\n",
    "FullTextIndexing.new_indexing(content_item_id = content_item_id, unique_words = word_list)"
   ]
  },
  {
   "cell_type": "code",
   "execution_count": null,
   "id": "12f6b92d-9444-4214-b48e-c97ba0c6e1b6",
   "metadata": {},
   "outputs": [],
   "source": []
  },
  {
   "cell_type": "code",
   "execution_count": null,
   "id": "68b9e6f0-3876-4a05-8305-78201efb3f73",
   "metadata": {},
   "outputs": [],
   "source": []
  },
  {
   "cell_type": "code",
   "execution_count": 31,
   "id": "3d3ffced-f985-44a8-85ea-1aee1d18c053",
   "metadata": {},
   "outputs": [
    {
     "name": "stdout",
     "output_type": "stream",
     "text": [
      "\n",
      " notes-1000.htm\n",
      "<p><em>From <a href=\"https://docs.oracle.com/en-us/iaas/Content/Compute/Tasks/accessinginstance.htm\">https://docs.oracle.com/en-us/iaas/Content/Compute/Tasks/accessinginstance.htm</a>:</em></p>\n",
      "\n",
      "<h3>Connect to the Linux instance using a .ppk private key file</h3>\n",
      "\n",
      "<p>If the instance uses a key pair that you created using PuTTY Key Generator, use the following procedure.</p>\n",
      "\n",
      "<ol>\n",
      "\t<li>Open PuTTY.</li>\n",
      "\t<li>\n",
      "\t<p>In the <strong>Category</strong> pane, select <strong>Session</strong> and enter the following:</p>\n",
      "\n",
      "\t<ul>\n",
      "\t\t<li>\n",
      "\t\t<p><strong>Host Name (or IP address):</strong></p>\n",
      "\n",
      "\t\t<p><code><var>&lt;username&gt;</var>@<var>&lt;public-ip-address&gt;</var></code></p>\n",
      "\n",
      "\t\t<p><var>&lt;username&gt;</var> is the default username for the instance. For Oracle Linux and CentOS images, the default username is <code>opc</code>. For Ubuntu images, the default username is <code>ubuntu</code>.</p>\n",
      "\n",
      "\t\t<p><var>&lt;public-ip-address&gt;</var> is your instance public IP&nbsp;address that you retrieved from the Console</p>\n",
      "\t\t</li>\n",
      "\t\t<li><strong>Port:</strong> 22</li>\n",
      "\t\t<li><strong>Connection type:</strong> SSH</li>\n",
      "\t</ul>\n",
      "\t</li>\n",
      "\t<li>In the <strong>Category</strong> pane, expand <strong>Window</strong>, and then select <strong>Translation</strong>.<br>\n",
      "\t&nbsp;</li>\n",
      "\t<li>In the <strong>Remote character set</strong> drop-down list, select <strong>UTF-8</strong>. The default locale setting on Linux-based instances is UTF-8, and this configures PuTTY to use the same locale.<br>\n",
      "\t&nbsp;</li>\n",
      "\t<li>In the <strong>Category</strong> pane, expand <strong>Connection</strong>, expand <strong>SSH</strong>, and then click <strong>Auth</strong>.</li>\n",
      "\t<li>\n",
      "\t<p>Click <strong>Browse</strong>, and then select your .ppk private key file.</p>\n",
      "\t</li>\n",
      "\t<li>\n",
      "\t<p>Click <strong>Open</strong> to start the session.</p>\n",
      "\n",
      "\t<p>If this is your first time connecting to the instance, you might see a message that the server&#39;s host key is not cached in the registry. Click <strong>Yes</strong> to continue the connection.</p>\n",
      "\t</li>\n",
      "</ol>\n",
      "\n",
      "New Content Item node created:  113\n",
      "\n",
      " notes-1001.htm\n",
      "<p><strong>Convert a private key (auto-generated by the Oracle cloud) from the &quot;.key&quot; format </strong>(which needs OpenSSH - no bueno on Win7, and annoying even in Win10)<strong> to the &quot;.ppk&quot; format (used by PuTTY):</strong></p>\n",
      "\n",
      "<ol>\n",
      "\t<li>\n",
      "\t<p>Open PuTTYgen.</p>\n",
      "\t</li>\n",
      "\t<li>\n",
      "\t<p>Click <strong>Load</strong>, and select the private key generated when you created the instance. The extension for the key file is <code>.key</code>.</p>\n",
      "\t</li>\n",
      "\t<li>\n",
      "\t<p>Click <strong>Save private key</strong>.</p>\n",
      "\t</li>\n",
      "\t<li>\n",
      "\t<p>Answer &quot;Yes&quot; when it asks &quot;Are you sure you want to save this key without a passphrase to protect it?&quot;</p>\n",
      "\t</li>\n",
      "\t<li>\n",
      "\t<p>Specify a name for the key. The extension for new private key will be <code>.ppk</code>.</p>\n",
      "\t</li>\n",
      "\t<li>\n",
      "\t<p>Click <strong>Save</strong>.</p>\n",
      "\t</li>\n",
      "</ol>\n",
      "\n",
      "New Content Item node created:  185\n"
     ]
    }
   ],
   "source": [
    "for filename in file_list[0:2]:\n",
    "    print(\"\\n-----\\n\", filename)\n",
    "    file_contents = MediaManager.get_from_file(filename)\n",
    "    print(file_contents)\n",
    "    word_list = FullTextIndexing.extract_unique_good_words(file_contents)\n",
    "    word_list\n",
    "\n",
    "    content_item_id = NeoSchema.create_data_node(class_node=\"Content Item\", properties = {\"name\": filename})\n",
    "    print(\"New Content Item node created: \", content_item_id)\n",
    "    FullTextIndexing.new_indexing(content_item_id = content_item_id, unique_words = word_list)"
   ]
  },
  {
   "cell_type": "code",
   "execution_count": null,
   "id": "440fdd79-e4f7-4c79-b9b2-d8c813f82000",
   "metadata": {},
   "outputs": [],
   "source": []
  },
  {
   "cell_type": "code",
   "execution_count": null,
   "id": "36528c75-3708-49c9-8068-61fdb12cfa75",
   "metadata": {},
   "outputs": [],
   "source": []
  },
  {
   "cell_type": "code",
   "execution_count": null,
   "id": "a1591514-1579-40e6-bd50-06ade7ce4b47",
   "metadata": {},
   "outputs": [],
   "source": []
  },
  {
   "cell_type": "code",
   "execution_count": null,
   "id": "dae28655-b117-4b2b-b893-04b3b13d38ed",
   "metadata": {},
   "outputs": [],
   "source": []
  },
  {
   "cell_type": "code",
   "execution_count": null,
   "id": "cdb3bd37-f934-40ca-b5c1-221733e16664",
   "metadata": {},
   "outputs": [],
   "source": []
  },
  {
   "cell_type": "code",
   "execution_count": null,
   "id": "022fbb23-2d6a-415b-bbdb-251ce0b820b4",
   "metadata": {},
   "outputs": [],
   "source": []
  },
  {
   "cell_type": "code",
   "execution_count": null,
   "id": "06ae7fe1-d17b-4382-b912-f72f2507f6cb",
   "metadata": {},
   "outputs": [],
   "source": []
  },
  {
   "cell_type": "code",
   "execution_count": null,
   "id": "881483c8-9189-433a-8a60-db9204dc13ee",
   "metadata": {},
   "outputs": [],
   "source": []
  },
  {
   "cell_type": "code",
   "execution_count": null,
   "id": "94c9a7bf-782d-4ab0-9fc6-dac4c7ef9056",
   "metadata": {},
   "outputs": [],
   "source": []
  },
  {
   "cell_type": "code",
   "execution_count": 22,
   "id": "99a82844-3273-4449-9c64-24f7bda85560",
   "metadata": {},
   "outputs": [
    {
     "data": {
      "text/plain": [
       "'D:/tmp/transfer/'"
      ]
     },
     "execution_count": 22,
     "metadata": {},
     "output_type": "execute_result"
    }
   ],
   "source": [
    "MediaManager.MEDIA_FOLDER"
   ]
  },
  {
   "cell_type": "code",
   "execution_count": null,
   "id": "6559d59a-0e4f-4ad2-a502-9fdc794b1e51",
   "metadata": {},
   "outputs": [],
   "source": []
  },
  {
   "cell_type": "code",
   "execution_count": 23,
   "id": "53a75af8-3c2c-4631-8b78-0a703b6a3e09",
   "metadata": {},
   "outputs": [
    {
     "data": {
      "text/plain": [
       "'<p><em>From <a href=\"https://docs.oracle.com/en-us/iaas/Content/Compute/Tasks/accessinginstance.htm\">https://docs.oracle.com/en-us/iaas/Content/Compute/Tasks/accessinginstance.htm</a>:</em></p>\\n\\n<h3>Connect to the Linux instance using a .ppk private key file</h3>\\n\\n<p>If the instance uses a key pair that you created using PuTTY Key Generator, use the following procedure.</p>\\n\\n<ol>\\n\\t<li>Open PuTTY.</li>\\n\\t<li>\\n\\t<p>In the <strong>Category</strong> pane, select <strong>Session</strong> and enter the following:</p>\\n\\n\\t<ul>\\n\\t\\t<li>\\n\\t\\t<p><strong>Host Name (or IP address):</strong></p>\\n\\n\\t\\t<p><code><var>&lt;username&gt;</var>@<var>&lt;public-ip-address&gt;</var></code></p>\\n\\n\\t\\t<p><var>&lt;username&gt;</var> is the default username for the instance. For Oracle Linux and CentOS images, the default username is <code>opc</code>. For Ubuntu images, the default username is <code>ubuntu</code>.</p>\\n\\n\\t\\t<p><var>&lt;public-ip-address&gt;</var> is your instance public IP&nbsp;address that you retrieved from the Console</p>\\n\\t\\t</li>\\n\\t\\t<li><strong>Port:</strong> 22</li>\\n\\t\\t<li><strong>Connection type:</strong> SSH</li>\\n\\t</ul>\\n\\t</li>\\n\\t<li>In the <strong>Category</strong> pane, expand <strong>Window</strong>, and then select <strong>Translation</strong>.<br>\\n\\t&nbsp;</li>\\n\\t<li>In the <strong>Remote character set</strong> drop-down list, select <strong>UTF-8</strong>. The default locale setting on Linux-based instances is UTF-8, and this configures PuTTY to use the same locale.<br>\\n\\t&nbsp;</li>\\n\\t<li>In the <strong>Category</strong> pane, expand <strong>Connection</strong>, expand <strong>SSH</strong>, and then click <strong>Auth</strong>.</li>\\n\\t<li>\\n\\t<p>Click <strong>Browse</strong>, and then select your .ppk private key file.</p>\\n\\t</li>\\n\\t<li>\\n\\t<p>Click <strong>Open</strong> to start the session.</p>\\n\\n\\t<p>If this is your first time connecting to the instance, you might see a message that the server&#39;s host key is not cached in the registry. Click <strong>Yes</strong> to continue the connection.</p>\\n\\t</li>\\n</ol>\\n'"
      ]
     },
     "execution_count": 23,
     "metadata": {},
     "output_type": "execute_result"
    }
   ],
   "source": [
    "MediaManager.get_from_file(\"notes-1000.htm\")"
   ]
  },
  {
   "cell_type": "code",
   "execution_count": null,
   "id": "ee3e9927-267f-46c2-a6a3-aef06621804f",
   "metadata": {},
   "outputs": [],
   "source": []
  },
  {
   "cell_type": "code",
   "execution_count": null,
   "id": "7dbb9e24-0cb2-42b9-835c-589b27dcefbd",
   "metadata": {},
   "outputs": [],
   "source": []
  },
  {
   "cell_type": "code",
   "execution_count": null,
   "id": "388db7da-7ee0-4757-a3b4-a7934e3b2798",
   "metadata": {},
   "outputs": [],
   "source": []
  },
  {
   "cell_type": "code",
   "execution_count": null,
   "id": "0ea3c924-5016-488e-879e-3b6ba068694f",
   "metadata": {},
   "outputs": [],
   "source": []
  },
  {
   "cell_type": "code",
   "execution_count": null,
   "id": "e3709515-9909-49a7-b217-bfa53bbe9207",
   "metadata": {},
   "outputs": [],
   "source": []
  },
  {
   "cell_type": "code",
   "execution_count": null,
   "id": "a8cc38da-a84f-4cb9-800d-1a49f1003be0",
   "metadata": {},
   "outputs": [],
   "source": []
  },
  {
   "cell_type": "code",
   "execution_count": null,
   "id": "80fb257c-9e2d-4107-9044-80fa589c5bf8",
   "metadata": {},
   "outputs": [],
   "source": []
  },
  {
   "cell_type": "code",
   "execution_count": null,
   "id": "adf22b03-5695-4a1d-8c5a-5597fceeecc4",
   "metadata": {},
   "outputs": [],
   "source": []
  },
  {
   "cell_type": "code",
   "execution_count": 13,
   "id": "53e30599-8f89-4099-9051-8bcdcfb0d1b7",
   "metadata": {},
   "outputs": [],
   "source": [
    "FullTextIndexing.initialize_schema()"
   ]
  },
  {
   "cell_type": "code",
   "execution_count": null,
   "id": "8250681a-ab43-481c-9ebc-63993dfa0032",
   "metadata": {},
   "outputs": [],
   "source": []
  },
  {
   "cell_type": "code",
   "execution_count": 16,
   "id": "57e6f55b-4927-44e2-8d6a-d4536f2449c7",
   "metadata": {
    "tags": []
   },
   "outputs": [
    {
     "data": {
      "text/plain": [
       "'hello to the world !!! ?  Welcome to learning how she cooks with potatoes...'"
      ]
     },
     "execution_count": 16,
     "metadata": {},
     "output_type": "execute_result"
    }
   ],
   "source": [
    "filename = \"test1.txt\"\n",
    "file_contents = MediaManager.get_from_file(filename)\n",
    "file_contents"
   ]
  },
  {
   "cell_type": "code",
   "execution_count": 17,
   "id": "582287e0-e5ae-4a7a-bede-4fe7331963c7",
   "metadata": {
    "tags": []
   },
   "outputs": [
    {
     "data": {
      "text/plain": [
       "['hello', 'world', 'welcome', 'learning', 'cooks', 'potatoes']"
      ]
     },
     "execution_count": 17,
     "metadata": {},
     "output_type": "execute_result"
    }
   ],
   "source": [
    "word_list = FullTextIndexing.extract_unique_good_words(file_contents)\n",
    "word_list"
   ]
  },
  {
   "cell_type": "code",
   "execution_count": 18,
   "id": "ef6ebaa4-4e1b-4c51-8fbf-ae85722569e6",
   "metadata": {
    "tags": []
   },
   "outputs": [
    {
     "data": {
      "text/plain": [
       "25"
      ]
     },
     "execution_count": 18,
     "metadata": {},
     "output_type": "execute_result"
    }
   ],
   "source": [
    "content_item_id = NeoSchema.create_data_node(class_node=\"Content Item\", properties = {\"name\": filename})\n",
    "content_item_id"
   ]
  },
  {
   "cell_type": "code",
   "execution_count": 19,
   "id": "2dc06ee4-b0e9-451f-9a16-6ad144c0b2ff",
   "metadata": {
    "tags": []
   },
   "outputs": [],
   "source": [
    "FullTextIndexing.new_indexing(content_item_id = content_item_id, unique_words = word_list)"
   ]
  },
  {
   "cell_type": "code",
   "execution_count": null,
   "id": "9e928056-1db6-415d-b0c6-e71bb07471d7",
   "metadata": {},
   "outputs": [],
   "source": []
  },
  {
   "cell_type": "code",
   "execution_count": 20,
   "id": "3b456b09-9300-4515-b520-a5c87a1e0f56",
   "metadata": {
    "tags": []
   },
   "outputs": [
    {
     "data": {
      "text/plain": [
       "\"<p>Let's make a <i>much better world</i>, shall we?  What do you say to that enticing prospect?</p>\\n\\n<p>Starting on a small scale &ndash; we&rsquo;ll learn cooking a potato well.</p>\""
      ]
     },
     "execution_count": 20,
     "metadata": {},
     "output_type": "execute_result"
    }
   ],
   "source": [
    "filename = \"test2.htm\"\n",
    "file_contents = MediaManager.get_from_file(filename)\n",
    "file_contents"
   ]
  },
  {
   "cell_type": "code",
   "execution_count": 21,
   "id": "2a9a76f2-be99-45de-937c-a9e7e4733974",
   "metadata": {
    "tags": []
   },
   "outputs": [
    {
     "data": {
      "text/plain": [
       "['world', 'say', 'enticing', 'prospect', 'scale', 'learn', 'cooking', 'potato']"
      ]
     },
     "execution_count": 21,
     "metadata": {},
     "output_type": "execute_result"
    }
   ],
   "source": [
    "word_list = FullTextIndexing.extract_unique_good_words(file_contents)\n",
    "word_list"
   ]
  },
  {
   "cell_type": "code",
   "execution_count": 22,
   "id": "65f70363-f772-490e-af20-883b0fc0dc9b",
   "metadata": {
    "tags": []
   },
   "outputs": [
    {
     "data": {
      "text/plain": [
       "0"
      ]
     },
     "execution_count": 22,
     "metadata": {},
     "output_type": "execute_result"
    }
   ],
   "source": [
    "content_item_id = NeoSchema.create_data_node(class_node=\"Content Item\", properties = {\"name\": filename})\n",
    "content_item_id"
   ]
  },
  {
   "cell_type": "code",
   "execution_count": 23,
   "id": "5bb78b01-2dd7-4159-9496-49738004225b",
   "metadata": {
    "tags": []
   },
   "outputs": [],
   "source": [
    "FullTextIndexing.new_indexing(content_item_id = content_item_id, unique_words = word_list)"
   ]
  },
  {
   "cell_type": "code",
   "execution_count": null,
   "id": "478e4d76-089f-41bb-89d7-63ce65d2d412",
   "metadata": {},
   "outputs": [],
   "source": []
  },
  {
   "cell_type": "code",
   "execution_count": 30,
   "id": "630b7a82-f846-4efb-b43f-499e28ae1ff3",
   "metadata": {
    "tags": []
   },
   "outputs": [],
   "source": [
    "def search_word(word :str):\n",
    "    q= f'''MATCH (w:Word)-[:occurs]->(:Indexer)<-[:has_index]-(ci:`Content Item`)\n",
    "         WHERE w.name CONTAINS toLower('{word}')\n",
    "         RETURN ci.name AS content_name\n",
    "         '''\n",
    "    result = db.query(q, single_column=\"content_name\")\n",
    "    return result"
   ]
  },
  {
   "cell_type": "code",
   "execution_count": null,
   "id": "a50dac74-5c63-4d8f-9f45-03ddaeb1dad1",
   "metadata": {},
   "outputs": [],
   "source": []
  },
  {
   "cell_type": "code",
   "execution_count": 31,
   "id": "f0efce75-3353-489b-9502-1a377a0ee964",
   "metadata": {
    "tags": []
   },
   "outputs": [
    {
     "data": {
      "text/plain": [
       "['test1.txt']"
      ]
     },
     "execution_count": 31,
     "metadata": {},
     "output_type": "execute_result"
    }
   ],
   "source": [
    "search_word(\"hello\")"
   ]
  },
  {
   "cell_type": "code",
   "execution_count": 32,
   "id": "45087339-97b3-461a-95f8-58230394b91d",
   "metadata": {
    "tags": []
   },
   "outputs": [
    {
     "data": {
      "text/plain": [
       "['test2.htm', 'test1.txt']"
      ]
     },
     "execution_count": 32,
     "metadata": {},
     "output_type": "execute_result"
    }
   ],
   "source": [
    "search_word(\"world\")"
   ]
  },
  {
   "cell_type": "code",
   "execution_count": 33,
   "id": "14a09629-0ab4-4ad3-92ac-7d6f150b80a6",
   "metadata": {
    "tags": []
   },
   "outputs": [
    {
     "data": {
      "text/plain": [
       "['test2.htm', 'test1.txt']"
      ]
     },
     "execution_count": 33,
     "metadata": {},
     "output_type": "execute_result"
    }
   ],
   "source": [
    "search_word(\"POTATO\")"
   ]
  },
  {
   "cell_type": "code",
   "execution_count": 34,
   "id": "ea744c93-e11f-43cd-a213-86f4d3a37af8",
   "metadata": {
    "tags": []
   },
   "outputs": [
    {
     "data": {
      "text/plain": [
       "['test1.txt']"
      ]
     },
     "execution_count": 34,
     "metadata": {},
     "output_type": "execute_result"
    }
   ],
   "source": [
    "search_word(\"POTATOES\")"
   ]
  },
  {
   "cell_type": "code",
   "execution_count": 35,
   "id": "99226331-f12a-4a7a-80c9-464a54e7858b",
   "metadata": {
    "tags": []
   },
   "outputs": [
    {
     "data": {
      "text/plain": [
       "['test2.htm', 'test1.txt']"
      ]
     },
     "execution_count": 35,
     "metadata": {},
     "output_type": "execute_result"
    }
   ],
   "source": [
    "search_word(\"Learn\")"
   ]
  },
  {
   "cell_type": "code",
   "execution_count": 37,
   "id": "a051f005-6468-4a8e-ae94-82faa60c97c5",
   "metadata": {
    "tags": []
   },
   "outputs": [
    {
     "data": {
      "text/plain": [
       "['test1.txt']"
      ]
     },
     "execution_count": 37,
     "metadata": {},
     "output_type": "execute_result"
    }
   ],
   "source": [
    "search_word(\"Learning\")"
   ]
  },
  {
   "cell_type": "code",
   "execution_count": null,
   "id": "64d75875-9a50-4394-b9ff-551cb19684f3",
   "metadata": {},
   "outputs": [],
   "source": []
  }
 ],
 "metadata": {
  "kernelspec": {
   "display_name": "Python 3 (ipykernel)",
   "language": "python",
   "name": "python3"
  },
  "language_info": {
   "codemirror_mode": {
    "name": "ipython",
    "version": 3
   },
   "file_extension": ".py",
   "mimetype": "text/x-python",
   "name": "python",
   "nbconvert_exporter": "python",
   "pygments_lexer": "ipython3",
   "version": "3.8.10"
  }
 },
 "nbformat": 4,
 "nbformat_minor": 5
}
